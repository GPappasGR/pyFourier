{
 "cells": [
  {
   "cell_type": "markdown",
   "metadata": {},
   "source": [
    "\n",
    "\n",
    "**Fourier Series Python Notebook**\n",
    "\n",
    "N. Stergioulas\n",
    "\n",
    "Aristotle University of Thessaloniki\n",
    "\n",
    "v1.1 (April 2020)\n",
    "\n",
    "###### Content provided under a Creative Commons Attribution license, [CC BY-NC-SA 4.0](https://creativecommons.org/licenses/by-nc-sa/4.0/); code under [GNU GPLv3 License](https://choosealicense.com/licenses/gpl-3.0/). (c)2020 [Nikolaos Stergioulas](http://www.astro.auth.gr/~niksterg/)\n"
   ]
  },
  {
   "cell_type": "code",
   "execution_count": 1,
   "metadata": {
    "init_cell": true
   },
   "outputs": [],
   "source": [
    "from __future__ import print_function, division\n",
    "import sympy as sp\n",
    "from sympy import symbols, fourier_series\n",
    "from sympy import *\n",
    "from sympy.plotting import plot\n",
    "nu, w = symbols(\"nu, omega\", real=True)\n",
    "x, t, T, p, a = symbols(\"x, t, T, phi, a\")\n",
    "k, m, n = symbols(\"k, m, n\", integer=True)\n",
    "f, v = symbols(\"f, v\", cls=Function)\n",
    "init_printing()\n",
    "%matplotlib inline\n",
    "import numpy as np\n",
    "import matplotlib.pyplot as plt\n",
    "import sys\n",
    "import warnings\n",
    "if not sys.warnoptions:\n",
    "    warnings.simplefilter(\"ignore\")"
   ]
  },
  {
   "cell_type": "code",
   "execution_count": 3,
   "metadata": {},
   "outputs": [
    {
     "name": "stdout",
     "output_type": "stream",
     "text": [
      "3.7.5\n"
     ]
    }
   ],
   "source": [
    "import platform\n",
    " \n",
    "print(platform.python_version())"
   ]
  },
  {
   "cell_type": "markdown",
   "metadata": {},
   "source": [
    "# Fourier Series"
   ]
  },
  {
   "cell_type": "markdown",
   "metadata": {},
   "source": [
    "## Fourier's Theorem"
   ]
  },
  {
   "cell_type": "markdown",
   "metadata": {},
   "source": [
    "A function $f(x)$ defined in the range $-\\pi\\leq x \\leq \\pi$ may be expanded as a series in the form\n",
    "\\begin{equation}\n",
    "f(x) = A_0 + \\sum_{n=1}^{\\infty} A_n \\cos nx + \\sum_{n=1}^{\\infty} B_n \\sin nx.\n",
    "\\end{equation}\n",
    "The theorem holds if the integral $\\int |f(x)|dx$ over the whole interval is finite and $f(x)$ has only a finite number of discontinuities.\n",
    "\n",
    "The orthogonality of the $\\sin nx$ and $\\cos mx$ functions, implies \n",
    "\\begin{equation}\n",
    "\\int_{-\\pi}^{\\pi} \\sin nx \\sin mx dx = \\pi \\delta_{mn}, \\ \\ \\ m>0, n>0\n",
    "\\end{equation}\n",
    "\\begin{equation}\n",
    "\\int_{-\\pi}^{\\pi} \\sin nx \\cos mx dx = 0, \\ \\ \\ \\forall n,m\n",
    "\\end{equation}\n",
    "\\begin{equation}\n",
    "\\int_{-\\pi}^{\\pi} \\cos nx \\cos mx dx = \\pi (\\delta_{m0} \\delta_{n0}+\\delta_{|m||n|}),\n",
    "\\end{equation}\n",
    "as can be easily verified:\n"
   ]
  },
  {
   "cell_type": "code",
   "execution_count": 4,
   "metadata": {},
   "outputs": [
    {
     "data": {
      "image/png": "[encoded data removed]",
      "text/latex": [
       "$$\\begin{cases} 0 & \\text{for}\\: \\left(m = 0 \\wedge n = 0\\right) \\vee \\left(m = 0 \\wedge m = n \\wedge n = 0\\right) \\vee \\left(m = 0 \\wedge m = - n \\wedge n = 0\\right) \\vee \\left(m = 0 \\wedge m = - n \\wedge m = n \\wedge n = 0\\right) \\vee m = 0 \\vee n = 0 \\\\- \\pi & \\text{for}\\: \\left(m = 0 \\wedge m = - n\\right) \\vee \\left(m = - n \\wedge m = n\\right) \\vee \\left(m = - n \\wedge n = 0\\right) \\vee \\left(m = 0 \\wedge m = - n \\wedge m = n\\right) \\vee \\left(m = - n \\wedge m = n \\wedge n = 0\\right) \\vee m = - n \\\\\\pi & \\text{for}\\: \\left(m = 0 \\wedge m = n\\right) \\vee \\left(m = n \\wedge n = 0\\right) \\vee m = n \\\\0 & \\text{otherwise} \\end{cases}$$"
      ],
      "text/plain": [
       "⎧0   for (m = 0 ∧ n = 0) ∨ (m = 0 ∧ m = n ∧ n = 0) ∨ (m = 0 ∧ m = -n ∧ n = 0) \n",
       "⎪                                                                             \n",
       "⎪-π   for (m = 0 ∧ m = -n) ∨ (m = -n ∧ m = n) ∨ (m = -n ∧ n = 0) ∨ (m = 0 ∧ m \n",
       "⎨                                                                             \n",
       "⎪π                                          for (m = 0 ∧ m = n) ∨ (m = n ∧ n =\n",
       "⎪                                                                             \n",
       "⎩0                                                            otherwise       \n",
       "\n",
       "∨ (m = 0 ∧ m = -n ∧ m = n ∧ n = 0) ∨ m = 0 ∨ n = 0\n",
       "                                                  \n",
       "= -n ∧ m = n) ∨ (m = -n ∧ m = n ∧ n = 0) ∨ m = -n \n",
       "                                                  \n",
       " 0) ∨ m = n                                       \n",
       "                                                  \n",
       "                                                  "
      ]
     },
     "execution_count": 4,
     "metadata": {},
     "output_type": "execute_result"
    }
   ],
   "source": [
    "integrate( sin(n*x)*sin(m*x), (x, -pi, pi) )"
   ]
  },
  {
   "cell_type": "code",
   "execution_count": 5,
   "metadata": {},
   "outputs": [
    {
     "data": {
      "image/png": "[encoded data removed]",
      "text/latex": [
       "$$0$$"
      ],
      "text/plain": [
       "0"
      ]
     },
     "execution_count": 5,
     "metadata": {},
     "output_type": "execute_result"
    }
   ],
   "source": [
    "integrate(sin(n*x)*cos(m*x), (x, -pi, pi))"
   ]
  },
  {
   "cell_type": "code",
   "execution_count": 6,
   "metadata": {},
   "outputs": [
    {
     "data": {
      "image/png": "[encoded data removed]",
      "text/latex": [
       "$$\\begin{cases} 2 \\pi & \\text{for}\\: \\left(m = 0 \\wedge n = 0\\right) \\vee \\left(m = 0 \\wedge m = n \\wedge n = 0\\right) \\vee \\left(m = 0 \\wedge m = - n \\wedge n = 0\\right) \\vee \\left(m = 0 \\wedge m = - n \\wedge m = n \\wedge n = 0\\right) \\\\\\pi & \\text{for}\\: \\left(m = 0 \\wedge m = - n\\right) \\vee \\left(m = 0 \\wedge m = n\\right) \\vee \\left(m = - n \\wedge m = n\\right) \\vee \\left(m = n \\wedge n = 0\\right) \\vee \\left(m = - n \\wedge n = 0\\right) \\vee \\left(m = 0 \\wedge m = - n \\wedge m = n\\right) \\vee \\left(m = - n \\wedge m = n \\wedge n = 0\\right) \\vee m = - n \\vee m = n \\\\0 & \\text{otherwise} \\end{cases}$$"
      ],
      "text/plain": [
       "⎧2⋅π                               for (m = 0 ∧ n = 0) ∨ (m = 0 ∧ m = n ∧ n = \n",
       "⎪                                                                             \n",
       "⎨ π   for (m = 0 ∧ m = -n) ∨ (m = 0 ∧ m = n) ∨ (m = -n ∧ m = n) ∨ (m = n ∧ n =\n",
       "⎪                                                                             \n",
       "⎩ 0                                                                           \n",
       "\n",
       "0) ∨ (m = 0 ∧ m = -n ∧ n = 0) ∨ (m = 0 ∧ m = -n ∧ m = n ∧ n = 0)              \n",
       "                                                                              \n",
       " 0) ∨ (m = -n ∧ n = 0) ∨ (m = 0 ∧ m = -n ∧ m = n) ∨ (m = -n ∧ m = n ∧ n = 0) ∨\n",
       "                                                                              \n",
       "      otherwise                                                               \n",
       "\n",
       "               \n",
       "               \n",
       " m = -n ∨ m = n\n",
       "               \n",
       "               "
      ]
     },
     "execution_count": 6,
     "metadata": {},
     "output_type": "execute_result"
    }
   ],
   "source": [
    "integrate(cos(n*x)*cos(m*x), (x, -pi, pi))"
   ]
  },
  {
   "cell_type": "markdown",
   "metadata": {},
   "source": [
    "## Fourier series expansion"
   ]
  },
  {
   "cell_type": "markdown",
   "metadata": {},
   "source": [
    "Evaluating $\\int_{-\\pi}^{\\pi} \\ f(x) \\cos mx\\ dx$ and $\\int_{-\\pi}^{\\pi} \\ f(x) \\sin mx \\ dx$, it is easy to show that the expansion coefficients are:\n",
    "\\begin{equation}\n",
    "A_0 = \\frac{1}{2\\pi}\\int_{-\\pi}^{\\pi} f(x)\\ dx,\n",
    "\\end{equation}\n",
    "\\begin{equation}\n",
    "A_n = \\frac{1}{\\pi}\\int_{-\\pi}^{\\pi} f(x) \\cos nx \\ dx,\n",
    "\\end{equation}\n",
    "\\begin{equation}\n",
    "B_n = \\frac{1}{\\pi}\\int_{-\\pi}^{\\pi} f(x) \\sin nx \\ dx.\n",
    "\\end{equation}\n",
    "The Fourier series expansion of a function $f(x)$ is thus:\n",
    "\\begin{equation}\n",
    "f(x) = \\frac{1}{\\pi} \\left[ \\frac{1}{2}\\int_{-\\pi}^{\\pi} f(x) \\ dx +  \\sum_{n=1}^{\\infty} \\left( \\int_{-\\pi}^{\\pi} f(x) \\cos nx \\ dx \\right)\\cos nx  + \\sum_{n=1}^{\\infty} \\left( \\int_{-\\pi}^{\\pi} f(x) \\sin nx \\ dx \\right)\\sin nx \\right].\n",
    "\\end{equation}"
   ]
  },
  {
   "cell_type": "markdown",
   "metadata": {},
   "source": [
    "## An example"
   ]
  },
  {
   "cell_type": "markdown",
   "metadata": {},
   "source": [
    "The Fourier series expansion of the function $f(x) = x/\\pi$, is, up to order $n=3$:"
   ]
  },
  {
   "cell_type": "code",
   "execution_count": 7,
   "metadata": {},
   "outputs": [
    {
     "data": {
      "image/png": "[encoded data removed]",
      "text/latex": [
       "$$\\frac{2 \\sin{\\left (x \\right )} - \\sin{\\left (2 x \\right )} + \\frac{2 \\sin{\\left (3 x \\right )}}{3}}{\\pi}$$"
      ],
      "text/plain": [
       "                      2⋅sin(3⋅x)\n",
       "2⋅sin(x) - sin(2⋅x) + ──────────\n",
       "                          3     \n",
       "────────────────────────────────\n",
       "               π                "
      ]
     },
     "execution_count": 7,
     "metadata": {},
     "output_type": "execute_result"
    }
   ],
   "source": [
    "f = x/pi\n",
    "\n",
    "1/pi * ( 1/2* integrate( f, (x, -pi, pi) ) \n",
    "        + integrate( f*cos(x), (x, -pi, pi) )*cos(x) \n",
    "        + integrate( f*cos(2*x), (x, -pi, pi) )*cos(2*x) \n",
    "        + integrate( f*cos(3*x), (x, -pi, pi) )*cos(3*x) \n",
    "        + integrate( f*sin(x), (x, -pi, pi) )*sin(x) \n",
    "        + integrate( f*sin(2*x), (x, -pi, pi) )*sin(2*x) \n",
    "        + integrate( f*sin(3*x), (x, -pi, pi) )*sin(3*x) )"
   ]
  },
  {
   "cell_type": "markdown",
   "metadata": {},
   "source": [
    "The full series can be obtain using a build-in function:"
   ]
  },
  {
   "cell_type": "code",
   "execution_count": 8,
   "metadata": {},
   "outputs": [],
   "source": [
    "fs = fourier_series(f, (x, -pi, pi))"
   ]
  },
  {
   "cell_type": "markdown",
   "metadata": {},
   "source": [
    "The truncated series up to orders $n=3$ is"
   ]
  },
  {
   "cell_type": "code",
   "execution_count": 10,
   "metadata": {},
   "outputs": [
    {
     "data": {
      "image/png": "[encoded data removed]",
      "text/latex": [
       "$$\\frac{2 \\sin{\\left (x \\right )}}{\\pi} - \\frac{\\sin{\\left (2 x \\right )}}{\\pi} + \\frac{2 \\sin{\\left (3 x \\right )}}{3 \\pi}$$"
      ],
      "text/plain": [
       "2⋅sin(x)   sin(2⋅x)   2⋅sin(3⋅x)\n",
       "──────── - ──────── + ──────────\n",
       "   π          π          3⋅π    "
      ]
     },
     "metadata": {},
     "output_type": "display_data"
    }
   ],
   "source": [
    "fs_n3 = fs.truncate(3)\n",
    "\n",
    "display(fs_n3)"
   ]
  },
  {
   "cell_type": "markdown",
   "metadata": {},
   "source": [
    "The truncated series up to order $n=9$ is"
   ]
  },
  {
   "cell_type": "code",
   "execution_count": 12,
   "metadata": {},
   "outputs": [
    {
     "data": {
      "image/png": "[encoded data removed]",
      "text/latex": [
       "$$\\frac{2 \\sin{\\left (x \\right )}}{\\pi} - \\frac{\\sin{\\left (2 x \\right )}}{\\pi} + \\frac{2 \\sin{\\left (3 x \\right )}}{3 \\pi} - \\frac{\\sin{\\left (4 x \\right )}}{2 \\pi} + \\frac{2 \\sin{\\left (5 x \\right )}}{5 \\pi} - \\frac{\\sin{\\left (6 x \\right )}}{3 \\pi} + \\frac{2 \\sin{\\left (7 x \\right )}}{7 \\pi} - \\frac{\\sin{\\left (8 x \\right )}}{4 \\pi} + \\frac{2 \\sin{\\left (9 x \\right )}}{9 \\pi} - \\frac{\\sin{\\left (10 x \\right )}}{5 \\pi}$$"
      ],
      "text/plain": [
       "2⋅sin(x)   sin(2⋅x)   2⋅sin(3⋅x)   sin(4⋅x)   2⋅sin(5⋅x)   sin(6⋅x)   2⋅sin(7⋅\n",
       "──────── - ──────── + ────────── - ──────── + ────────── - ──────── + ────────\n",
       "   π          π          3⋅π         2⋅π         5⋅π         3⋅π         7⋅π  \n",
       "\n",
       "x)   sin(8⋅x)   2⋅sin(9⋅x)   sin(10⋅x)\n",
       "── - ──────── + ────────── - ─────────\n",
       "       4⋅π         9⋅π          5⋅π   "
      ]
     },
     "metadata": {},
     "output_type": "display_data"
    }
   ],
   "source": [
    "fs_n9 = fs.truncate(10)\n",
    "\n",
    "display(fs_n9)"
   ]
  },
  {
   "cell_type": "markdown",
   "metadata": {},
   "source": [
    "With increasing order, the series converges to the function, except near the boundaries."
   ]
  },
  {
   "cell_type": "code",
   "execution_count": 13,
   "metadata": {},
   "outputs": [
    {
     "data": {
      "image/png": "[encoded data removed]",
      "text/plain": [
       "<Figure size 432x288 with 1 Axes>"
      ]
     },
     "metadata": {
      "needs_background": "light"
     },
     "output_type": "display_data"
    }
   ],
   "source": [
    "p1 = plot( f, fs_n3, fs_n9, (x,-pi,pi), show=False )\n",
    "p1[0].line_color = 'black'\n",
    "p1[1].line_color = 'green'\n",
    "p1[2].line_color = 'blue'\n",
    "p1.show()"
   ]
  },
  {
   "cell_type": "markdown",
   "metadata": {},
   "source": [
    "Notice that he Fourier series is *periodic*, when extended *outside the boundaries* in which the function $f(x)$ was defined!"
   ]
  },
  {
   "cell_type": "code",
   "execution_count": 14,
   "metadata": {},
   "outputs": [
    {
     "data": {
      "image/png": "[encoded data removed]",
      "text/plain": [
       "<Figure size 432x288 with 1 Axes>"
      ]
     },
     "metadata": {
      "needs_background": "light"
     },
     "output_type": "display_data"
    }
   ],
   "source": [
    "p1 = plot( f, fs_n3, fs_n9,(x,-3*pi,3*pi), show=False )\n",
    "p1[0].line_color = 'black'\n",
    "p1[1].line_color = 'green'\n",
    "p1[2].line_color = 'blue'\n",
    "p1.show()"
   ]
  },
  {
   "cell_type": "markdown",
   "metadata": {},
   "source": [
    "## Periodic waveforms"
   ]
  },
  {
   "cell_type": "markdown",
   "metadata": {},
   "source": [
    "If the function $f(x)$ is periodic with a period $T$, corresponding to angular frequency $\\omega=2\\pi/T$ and we replace $x=\\omega t$, then the range $-\\pi\\leq x \\leq \\pi$ corresponds to $-T/2 \\leq t \\leq T/2$. From now on, we will refer to such periodic functions as $v(t)$, having a Fourier series expansion of\n",
    "\\begin{equation}\n",
    "v(t) =  A_0 +  \\sum_{n=1}^{\\infty} A_n\\cos n\\omega t  + \\sum_{n=1}^{\\infty} B_n\\sin n\\omega t,\n",
    "\\end{equation}\n",
    "where \n",
    "\\begin{equation}\n",
    "A_0 = \\frac{1}{T} \\int_{-T/2}^{T/2} v(t) \\ dt,\n",
    "\\end{equation}\n",
    "\\begin{equation}\n",
    "A_n = \\frac{2}{T} \\int_{-T/2}^{T/2} v(t) \\cos n\\omega t \\ dt,\n",
    "\\end{equation}\n",
    "\\begin{equation}\n",
    "B_n = \\frac{2}{T} \\int_{-T/2}^{T/2} v(t) \\sin n\\omega t \\ dt, \n",
    "\\end{equation}\n",
    "or\n",
    "\\begin{equation}\n",
    "v(t) = \\frac{2}{T} \\left[ \\frac{1}{2}\\int_{-T/2}^{T/2} v(t) \\ dt +  \\sum_{n=1}^{\\infty} \\left( \\int_{-T/2}^{T/2} v(t) \\cos n\\omega t \\ dt \\right)\\cos n\\omega t  + \\sum_{n=1}^{\\infty} \\left( \\int_{-T/2}^{T/2} v(t) \\sin n\\omega t \\ dt \\right)\\sin n\\omega t \\right].\n",
    "\\end{equation}\n",
    "This expansion can also be written in the equivalent form:\n",
    "\\begin{equation}\n",
    "v(t) =  A_0 +  \\sum_{n=1}^{\\infty} C_n\\cos ( n\\omega t -\\phi_n),\n",
    "\\end{equation}\n",
    "where the amplitude $C_n$ and the phase $\\phi_n$ are defined as\n",
    "\\begin{equation}\n",
    "C_n = \\sqrt{A_n^2+B_n^2},\n",
    "\\end{equation}\n",
    "\\begin{equation}\n",
    "\\phi_n = \\arctan \\frac{B_n}{A_n}.\n",
    "\\end{equation}\n",
    "Knowledge of $(A_0,C_n,\\phi_n)$ is equivalent to the knowledge of $v(t)$. The lowest-frequency component $C_1\\cos(\\omega t-\\phi_1)$ is called the fundamental, while higher-order terms are the harmonics. Some instruments, such as a wave analyzer or the human ear, only detect the magnitudes $C_n$ and cannot distinguish two waveforms that have the same magnitudes $C_n$ but different phases $\\phi_n$."
   ]
  },
  {
   "cell_type": "markdown",
   "metadata": {},
   "source": [
    "## Example of a periodic signal"
   ]
  },
  {
   "cell_type": "markdown",
   "metadata": {},
   "source": [
    "Consider again the function $f(x) = x/\\pi$, and its periodic extension $v(t)=\\omega t/\\pi = (2/T)t$. The Fourier series expansion coefficients are then"
   ]
  },
  {
   "cell_type": "code",
   "execution_count": 15,
   "metadata": {},
   "outputs": [],
   "source": [
    "v = (2/T)*t\n",
    "A0 = (1/T)*integrate( v, (t, -T/2, T/2) )\n",
    "An = (2/T)*integrate( v*sp.cos(n*w*t).subs(w,2*pi/T), (t, -T/2, T/2) )\n",
    "Bn = (2/T)*integrate( v*sp.sin(n*w*t).subs(w,2*pi/T), (t, -T/2, T/2) )"
   ]
  },
  {
   "cell_type": "markdown",
   "metadata": {},
   "source": [
    "Up to order $n=3$ we find"
   ]
  },
  {
   "cell_type": "code",
   "execution_count": 16,
   "metadata": {},
   "outputs": [
    {
     "data": {
      "image/png": "[encoded data removed]",
      "text/latex": [
       "$$0$$"
      ],
      "text/plain": [
       "0"
      ]
     },
     "metadata": {},
     "output_type": "display_data"
    }
   ],
   "source": [
    "display(A0)"
   ]
  },
  {
   "cell_type": "code",
   "execution_count": 17,
   "metadata": {},
   "outputs": [
    {
     "data": {
      "image/png": "[encoded data removed]",
      "text/latex": [
       "$$0$$"
      ],
      "text/plain": [
       "0"
      ]
     },
     "metadata": {},
     "output_type": "display_data"
    },
    {
     "data": {
      "image/png": "[encoded data removed]",
      "text/latex": [
       "$$0$$"
      ],
      "text/plain": [
       "0"
      ]
     },
     "metadata": {},
     "output_type": "display_data"
    },
    {
     "data": {
      "image/png": "[encoded data removed]",
      "text/latex": [
       "$$0$$"
      ],
      "text/plain": [
       "0"
      ]
     },
     "metadata": {},
     "output_type": "display_data"
    }
   ],
   "source": [
    "display( An.subs(n,1), An.subs(n,2), An.subs(n,3))"
   ]
  },
  {
   "cell_type": "code",
   "execution_count": 18,
   "metadata": {},
   "outputs": [
    {
     "data": {
      "image/png": "[encoded data removed]",
      "text/latex": [
       "$$\\frac{2}{\\pi}$$"
      ],
      "text/plain": [
       "2\n",
       "─\n",
       "π"
      ]
     },
     "metadata": {},
     "output_type": "display_data"
    },
    {
     "data": {
      "image/png": "[encoded data removed]",
      "text/latex": [
       "$$- \\frac{1}{\\pi}$$"
      ],
      "text/plain": [
       "-1 \n",
       "───\n",
       " π "
      ]
     },
     "metadata": {},
     "output_type": "display_data"
    },
    {
     "data": {
      "image/png": "[encoded data removed]",
      "text/latex": [
       "$$\\frac{2}{3 \\pi}$$"
      ],
      "text/plain": [
       " 2 \n",
       "───\n",
       "3⋅π"
      ]
     },
     "metadata": {},
     "output_type": "display_data"
    }
   ],
   "source": [
    "display( Bn.subs(n,1), Bn.subs(n,2), Bn.subs(n,3))"
   ]
  },
  {
   "cell_type": "markdown",
   "metadata": {},
   "source": [
    "Notice that $A_0=0, \\ A_n=0$, because $v(t)$ is odd about $t=0$. The Fourier series expansion of $v(t)=\\omega t/\\pi = (2/T)t$ up to $n=3$ is thus"
   ]
  },
  {
   "cell_type": "code",
   "execution_count": 19,
   "metadata": {},
   "outputs": [
    {
     "data": {
      "image/png": "[encoded data removed]",
      "text/latex": [
       "$$\\frac{2 \\sin{\\left (\\frac{2 \\pi t}{T} \\right )}}{\\pi} - \\frac{\\sin{\\left (\\frac{4 \\pi t}{T} \\right )}}{\\pi} + \\frac{2 \\sin{\\left (\\frac{6 \\pi t}{T} \\right )}}{3 \\pi}$$"
      ],
      "text/plain": [
       "     ⎛2⋅π⋅t⎞      ⎛4⋅π⋅t⎞        ⎛6⋅π⋅t⎞\n",
       "2⋅sin⎜─────⎟   sin⎜─────⎟   2⋅sin⎜─────⎟\n",
       "     ⎝  T  ⎠      ⎝  T  ⎠        ⎝  T  ⎠\n",
       "──────────── - ────────── + ────────────\n",
       "     π             π            3⋅π     "
      ]
     },
     "execution_count": 19,
     "metadata": {},
     "output_type": "execute_result"
    }
   ],
   "source": [
    "A0 + Sum( An*cos(n*w*t).subs(w,2*pi/T), (n, 1, 3) ).doit() \\\n",
    "   + Sum( Bn*sin(n*w*t).subs(w,2*pi/T), (n, 1, 3) ).doit()"
   ]
  },
  {
   "cell_type": "markdown",
   "metadata": {},
   "source": [
    "and up to $n=9$ we find"
   ]
  },
  {
   "cell_type": "code",
   "execution_count": 21,
   "metadata": {},
   "outputs": [
    {
     "data": {
      "image/png": "[encoded data removed]",
      "text/latex": [
       "$$\\frac{2 \\sin{\\left (\\frac{2 \\pi t}{T} \\right )}}{\\pi} - \\frac{\\sin{\\left (\\frac{4 \\pi t}{T} \\right )}}{\\pi} + \\frac{2 \\sin{\\left (\\frac{6 \\pi t}{T} \\right )}}{3 \\pi} - \\frac{\\sin{\\left (\\frac{8 \\pi t}{T} \\right )}}{2 \\pi} + \\frac{2 \\sin{\\left (\\frac{10 \\pi t}{T} \\right )}}{5 \\pi} - \\frac{\\sin{\\left (\\frac{12 \\pi t}{T} \\right )}}{3 \\pi} + \\frac{2 \\sin{\\left (\\frac{14 \\pi t}{T} \\right )}}{7 \\pi} - \\frac{\\sin{\\left (\\frac{16 \\pi t}{T} \\right )}}{4 \\pi} + \\frac{2 \\sin{\\left (\\frac{18 \\pi t}{T} \\right )}}{9 \\pi}$$"
      ],
      "text/plain": [
       "     ⎛2⋅π⋅t⎞      ⎛4⋅π⋅t⎞        ⎛6⋅π⋅t⎞      ⎛8⋅π⋅t⎞        ⎛10⋅π⋅t⎞      ⎛12\n",
       "2⋅sin⎜─────⎟   sin⎜─────⎟   2⋅sin⎜─────⎟   sin⎜─────⎟   2⋅sin⎜──────⎟   sin⎜──\n",
       "     ⎝  T  ⎠      ⎝  T  ⎠        ⎝  T  ⎠      ⎝  T  ⎠        ⎝  T   ⎠      ⎝  \n",
       "──────────── - ────────── + ──────────── - ────────── + ───────────── - ──────\n",
       "     π             π            3⋅π           2⋅π            5⋅π            3⋅\n",
       "\n",
       "⋅π⋅t⎞        ⎛14⋅π⋅t⎞      ⎛16⋅π⋅t⎞        ⎛18⋅π⋅t⎞\n",
       "────⎟   2⋅sin⎜──────⎟   sin⎜──────⎟   2⋅sin⎜──────⎟\n",
       "T   ⎠        ⎝  T   ⎠      ⎝  T   ⎠        ⎝  T   ⎠\n",
       "───── + ───────────── - ─────────── + ─────────────\n",
       "π            7⋅π            4⋅π            9⋅π     "
      ]
     },
     "metadata": {},
     "output_type": "display_data"
    }
   ],
   "source": [
    "s9 = A0 + Sum( An*cos(n*w*t).subs(w,2*pi/T), (n, 1, 9) ).doit() \\\n",
    "   + Sum( Bn*sin(n*w*t).subs(w,2*pi/T), (n, 1, 9) ).doit()\n",
    "\n",
    "display(s9)"
   ]
  },
  {
   "cell_type": "markdown",
   "metadata": {},
   "source": [
    "The corresponding magnitude and phase information is"
   ]
  },
  {
   "cell_type": "code",
   "execution_count": 22,
   "metadata": {},
   "outputs": [],
   "source": [
    "Cn = sp.sqrt(An*An+Bn*Bn)\n",
    "pn = sp.atan2(Bn,An)"
   ]
  },
  {
   "cell_type": "markdown",
   "metadata": {},
   "source": [
    "Up to $n=3$ the magnitude coefficients are"
   ]
  },
  {
   "cell_type": "code",
   "execution_count": 17,
   "metadata": {},
   "outputs": [
    {
     "data": {
      "image/png": "[encoded data removed]",
      "text/latex": [
       "$$\\frac{2}{\\pi}$$"
      ],
      "text/plain": [
       "2\n",
       "─\n",
       "π"
      ]
     },
     "metadata": {},
     "output_type": "display_data"
    },
    {
     "data": {
      "image/png": "[encoded data removed]",
      "text/latex": [
       "$$\\frac{1}{\\pi}$$"
      ],
      "text/plain": [
       "1\n",
       "─\n",
       "π"
      ]
     },
     "metadata": {},
     "output_type": "display_data"
    },
    {
     "data": {
      "image/png": "[encoded data removed]",
      "text/latex": [
       "$$\\frac{2}{3 \\pi}$$"
      ],
      "text/plain": [
       " 2 \n",
       "───\n",
       "3⋅π"
      ]
     },
     "metadata": {},
     "output_type": "display_data"
    }
   ],
   "source": [
    "display( Cn.subs(n,1), Cn.subs(n,2), Cn.subs(n,3) )"
   ]
  },
  {
   "cell_type": "markdown",
   "metadata": {},
   "source": [
    "and can be displayed as a stem plot"
   ]
  },
  {
   "cell_type": "code",
   "execution_count": 23,
   "metadata": {},
   "outputs": [
    {
     "data": {
      "image/png": "[encoded data removed]",
      "text/plain": [
       "<Figure size 432x288 with 1 Axes>"
      ]
     },
     "metadata": {
      "needs_background": "light"
     },
     "output_type": "display_data"
    }
   ],
   "source": [
    "x = (1, 2, 3)\n",
    "y = ( Cn.subs(n,1), Cn.subs(n,2), Cn.subs(n,3) )\n",
    "markerline, stemlines, baseline = plt.stem( x, y, '-' )\n",
    "plt.setp( baseline, color='b', linewidth=2 )\n",
    "plt.xticks(np.arange(min(x), max(x)+1, 1.0))\n",
    "plt.xlabel(r\"$n$\")\n",
    "plt.ylabel(r\"$C_n$\")\n",
    "plt.show()"
   ]
  },
  {
   "cell_type": "markdown",
   "metadata": {},
   "source": [
    "The corresponding phase coefficients are"
   ]
  },
  {
   "cell_type": "code",
   "execution_count": 24,
   "metadata": {},
   "outputs": [
    {
     "data": {
      "image/png": "[encoded data removed]",
      "text/latex": [
       "$$\\frac{\\pi}{2}$$"
      ],
      "text/plain": [
       "π\n",
       "─\n",
       "2"
      ]
     },
     "metadata": {},
     "output_type": "display_data"
    },
    {
     "data": {
      "image/png": "[encoded data removed]",
      "text/latex": [
       "$$- \\frac{\\pi}{2}$$"
      ],
      "text/plain": [
       "-π \n",
       "───\n",
       " 2 "
      ]
     },
     "metadata": {},
     "output_type": "display_data"
    },
    {
     "data": {
      "image/png": "[encoded data removed]",
      "text/latex": [
       "$$\\frac{\\pi}{2}$$"
      ],
      "text/plain": [
       "π\n",
       "─\n",
       "2"
      ]
     },
     "metadata": {},
     "output_type": "display_data"
    }
   ],
   "source": [
    "display( pn.subs(n,1), pn.subs(n,2), pn.subs(n,3) )"
   ]
  },
  {
   "cell_type": "code",
   "execution_count": 25,
   "metadata": {},
   "outputs": [
    {
     "data": {
      "image/png": "[encoded data removed]",
      "text/plain": [
       "<Figure size 432x288 with 1 Axes>"
      ]
     },
     "metadata": {
      "needs_background": "light"
     },
     "output_type": "display_data"
    }
   ],
   "source": [
    "x = (1, 2, 3)\n",
    "y = ( pn.subs(n,1), pn.subs(n,2), pn.subs(n,3) )\n",
    "markerline, stemlines, baseline = plt.stem( x, y, '-' )\n",
    "plt.setp( baseline, color='b', linewidth=2 )\n",
    "plt.xticks(np.arange(min(x), max(x)+1, 1.0))\n",
    "plt.xlabel(r\"$n$\")\n",
    "plt.ylabel(r\"$\\phi_n$\")\n",
    "plt.show()"
   ]
  },
  {
   "cell_type": "markdown",
   "metadata": {},
   "source": [
    "The same result for the Fourier series expansion is obtained using the $(C_n, \\phi_n)$ coefficients as we obtained before with the $(A_n, B_n)$ coefficients"
   ]
  },
  {
   "cell_type": "code",
   "execution_count": 26,
   "metadata": {},
   "outputs": [
    {
     "data": {
      "image/png": "[encoded data removed]",
      "text/latex": [
       "$$\\frac{2 \\sin{\\left (\\frac{2 \\pi t}{T} \\right )}}{\\pi} - \\frac{\\sin{\\left (\\frac{4 \\pi t}{T} \\right )}}{\\pi} + \\frac{2 \\sin{\\left (\\frac{6 \\pi t}{T} \\right )}}{3 \\pi}$$"
      ],
      "text/plain": [
       "     ⎛2⋅π⋅t⎞      ⎛4⋅π⋅t⎞        ⎛6⋅π⋅t⎞\n",
       "2⋅sin⎜─────⎟   sin⎜─────⎟   2⋅sin⎜─────⎟\n",
       "     ⎝  T  ⎠      ⎝  T  ⎠        ⎝  T  ⎠\n",
       "──────────── - ────────── + ────────────\n",
       "     π             π            3⋅π     "
      ]
     },
     "metadata": {},
     "output_type": "display_data"
    }
   ],
   "source": [
    "vs = A0 + Sum( Cn*cos(n*w*t-pn).subs(w,2*pi/T), (n, 1, 3) ).doit() \n",
    "display(vs)"
   ]
  },
  {
   "cell_type": "markdown",
   "metadata": {},
   "source": [
    "Below, we plot an example of the above series, with period $T=10$."
   ]
  },
  {
   "cell_type": "code",
   "execution_count": 27,
   "metadata": {},
   "outputs": [
    {
     "data": {
      "image/png": "[encoded data removed]",
      "text/plain": [
       "<Figure size 432x288 with 1 Axes>"
      ]
     },
     "metadata": {
      "needs_background": "light"
     },
     "output_type": "display_data"
    }
   ],
   "source": [
    "period =10\n",
    "p2 = plot( vs.subs(T,period) , (t,-period/2,period/2), show=False )\n",
    "p2.ylabel = r\"$v(t)$\"\n",
    "p2.show()"
   ]
  },
  {
   "cell_type": "markdown",
   "metadata": {},
   "source": [
    "We can now construct another series, with the same harmonic content as in the above example, but choosing other coefficients for the phases: $\\phi_1 = \\pi/4, \\phi_2 = 3\\pi/4, \\phi_3 = 5\\pi/4$. "
   ]
  },
  {
   "cell_type": "code",
   "execution_count": 28,
   "metadata": {},
   "outputs": [
    {
     "data": {
      "image/png": "[encoded data removed]",
      "text/plain": [
       "<Figure size 432x288 with 1 Axes>"
      ]
     },
     "metadata": {
      "needs_background": "light"
     },
     "output_type": "display_data"
    }
   ],
   "source": [
    "x = (1, 2, 3)\n",
    "y = ( pi/4, 3*pi/4, 5*pi/4 )\n",
    "markerline, stemlines, baseline = plt.stem( x, y, '-' )\n",
    "plt.setp( baseline, color='b', linewidth=2 )\n",
    "plt.xticks(np.arange(min(x), max(x)+1, 1.0))\n",
    "plt.xlabel(r\"$n$\")\n",
    "plt.ylabel(r\"$\\phi_n$\")\n",
    "plt.show()"
   ]
  },
  {
   "cell_type": "markdown",
   "metadata": {},
   "source": [
    "Then, the corresponding (different) series is:"
   ]
  },
  {
   "cell_type": "code",
   "execution_count": 29,
   "metadata": {},
   "outputs": [
    {
     "data": {
      "image/png": "[encoded data removed]",
      "text/latex": [
       "$$\\frac{2 \\sin{\\left (\\frac{\\pi}{4} + \\frac{2 \\pi t}{T} \\right )}}{\\pi} - \\frac{2 \\sin{\\left (\\frac{\\pi}{4} + \\frac{6 \\pi t}{T} \\right )}}{3 \\pi} - \\frac{\\cos{\\left (\\frac{\\pi}{4} + \\frac{4 \\pi t}{T} \\right )}}{\\pi}$$"
      ],
      "text/plain": [
       "     ⎛π   2⋅π⋅t⎞        ⎛π   6⋅π⋅t⎞      ⎛π   4⋅π⋅t⎞\n",
       "2⋅sin⎜─ + ─────⎟   2⋅sin⎜─ + ─────⎟   cos⎜─ + ─────⎟\n",
       "     ⎝4     T  ⎠        ⎝4     T  ⎠      ⎝4     T  ⎠\n",
       "──────────────── - ──────────────── - ──────────────\n",
       "       π                 3⋅π                π       "
      ]
     },
     "metadata": {},
     "output_type": "display_data"
    }
   ],
   "source": [
    "vs_other = A0 + Cn.subs(n,1)*cos(1*w*t-pi/4).subs(w,2*pi/T) \\\n",
    "              + Cn.subs(n,2)*cos(2*w*t-3*pi/4).subs(w,2*pi/T) \\\n",
    "              + Cn.subs(n,3)*cos(3*w*t-5*pi/4).subs(w,2*pi/T) \n",
    "\n",
    "display(vs_other)"
   ]
  },
  {
   "cell_type": "markdown",
   "metadata": {},
   "source": [
    "A comparison of the two series, having the same amplitude coefficients, but different phase coefficients, is shown below:"
   ]
  },
  {
   "cell_type": "code",
   "execution_count": 30,
   "metadata": {},
   "outputs": [
    {
     "data": {
      "image/png": "[encoded data removed]",
      "text/plain": [
       "<Figure size 432x288 with 1 Axes>"
      ]
     },
     "metadata": {
      "needs_background": "light"
     },
     "output_type": "display_data"
    }
   ],
   "source": [
    "period =10\n",
    "p3 = plot( vs.subs(T,period), vs_other.subs(T,period), (t,-period/2,period/2) , show=False )\n",
    "p3[0].line_color = 'blue'\n",
    "p3[1].line_color = 'red'\n",
    "p3.ylabel = r\"$v(t)$\"\n",
    "p3.show()"
   ]
  },
  {
   "cell_type": "markdown",
   "metadata": {},
   "source": [
    "## Example of periodic rectangular signal"
   ]
  },
  {
   "cell_type": "markdown",
   "metadata": {},
   "source": [
    "Consider a periodic rectangular signal, defined as follows in the range $-T/2$ to $T/2$:"
   ]
  },
  {
   "cell_type": "code",
   "execution_count": 31,
   "metadata": {},
   "outputs": [],
   "source": [
    "v_step = sp.Piecewise(\n",
    "    (0, t < -T/4),\n",
    "    (0, t > T/4),\n",
    "    ( 1, True )\n",
    ")"
   ]
  },
  {
   "cell_type": "markdown",
   "metadata": {},
   "source": [
    "As a specific example, take the period to be $T=1$."
   ]
  },
  {
   "cell_type": "code",
   "execution_count": 32,
   "metadata": {},
   "outputs": [
    {
     "data": {
      "image/png": "[encoded data removed]",
      "text/plain": [
       "<Figure size 432x288 with 1 Axes>"
      ]
     },
     "metadata": {
      "needs_background": "light"
     },
     "output_type": "display_data"
    }
   ],
   "source": [
    "period = 1\n",
    "v_step_plot = Piecewise( (0, t<=-1/4*period), (1, t<=1/4*period), (0, t>1/4*period) )\n",
    "p4 = plot( v_step_plot, (t,-1/2*period,1/2*period), show=False)\n",
    "p4.ylabel = r\"$v(t)$\"\n",
    "p4.show()"
   ]
  },
  {
   "cell_type": "markdown",
   "metadata": {},
   "source": [
    "The Fourier expansion coefficients up to $n=3$ are:"
   ]
  },
  {
   "cell_type": "code",
   "execution_count": 33,
   "metadata": {},
   "outputs": [
    {
     "data": {
      "image/png": "[encoded data removed]",
      "text/latex": [
       "$$\\frac{1}{2}$$"
      ],
      "text/plain": [
       "1/2"
      ]
     },
     "metadata": {},
     "output_type": "display_data"
    },
    {
     "data": {
      "image/png": "[encoded data removed]",
      "text/latex": [
       "$$\\frac{2}{\\pi}$$"
      ],
      "text/plain": [
       "2\n",
       "─\n",
       "π"
      ]
     },
     "metadata": {},
     "output_type": "display_data"
    },
    {
     "data": {
      "image/png": "[encoded data removed]",
      "text/latex": [
       "$$0$$"
      ],
      "text/plain": [
       "0"
      ]
     },
     "metadata": {},
     "output_type": "display_data"
    },
    {
     "data": {
      "image/png": "[encoded data removed]",
      "text/latex": [
       "$$- \\frac{2}{3 \\pi}$$"
      ],
      "text/plain": [
       "-2 \n",
       "───\n",
       "3⋅π"
      ]
     },
     "metadata": {},
     "output_type": "display_data"
    },
    {
     "data": {
      "image/png": "[encoded data removed]",
      "text/latex": [
       "$$0$$"
      ],
      "text/plain": [
       "0"
      ]
     },
     "metadata": {},
     "output_type": "display_data"
    },
    {
     "data": {
      "image/png": "[encoded data removed]",
      "text/latex": [
       "$$0$$"
      ],
      "text/plain": [
       "0"
      ]
     },
     "metadata": {},
     "output_type": "display_data"
    },
    {
     "data": {
      "image/png": "[encoded data removed]",
      "text/latex": [
       "$$0$$"
      ],
      "text/plain": [
       "0"
      ]
     },
     "metadata": {},
     "output_type": "display_data"
    }
   ],
   "source": [
    "v = v_step.subs(T,period)\n",
    "A0 = (1/T).subs(T,period)*integrate(v, (t, -period/2, period/2))\n",
    "An = (2/T).subs(T,period)*integrate(v*sp.cos(n*w*t).subs(w, 2*pi/period), (t, -period/2, period/2))\n",
    "Bn = (2/T).subs(T,period)*integrate(v*sp.sin(n*w*t).subs(w, 2*pi/period), (t, -period/2, period/2))\n",
    "display(A0)\n",
    "display(An.subs(n,1), An.subs(n,2), An.subs(n,3))\n",
    "display(Bn.subs(n,1), Bn.subs(n,2), Bn.subs(n,3))"
   ]
  },
  {
   "cell_type": "markdown",
   "metadata": {},
   "source": [
    "Notice that because this is an even function, the coefficients $B_n$ all vanish. The Fourier expansion at different orders is:"
   ]
  },
  {
   "cell_type": "code",
   "execution_count": 34,
   "metadata": {},
   "outputs": [],
   "source": [
    "vs_step_n7 = A0 + Sum(An*cos(n*w*t).subs(w, 2*pi/period), (n, 1, 7)).doit() \\\n",
    "                + Sum(Bn*sin(n*w*t).subs(w, 2*pi/period), (n, 1, 7)).doit()\n",
    "vs_step_n15 = A0 + Sum(An*cos(n*w*t).subs(w, 2*pi/period), (n, 1, 15)).doit() \\\n",
    "                 + Sum(Bn*sin(n*w*t).subs(w, 2*pi/period), (n, 1, 15)).doit()\n",
    "vs_step_n31 = A0 + Sum(An*cos(n*w*t).subs(w, 2*pi/period), (n, 1, 31)).doit() \\\n",
    "                 + Sum(Bn*sin(n*w*t).subs(w, 2*pi/period), (n, 1, 31)).doit()"
   ]
  },
  {
   "cell_type": "markdown",
   "metadata": {},
   "source": [
    "For example, up to order $n=7$:"
   ]
  },
  {
   "cell_type": "code",
   "execution_count": 35,
   "metadata": {},
   "outputs": [
    {
     "data": {
      "image/png": "[encoded data removed]",
      "text/latex": [
       "$$\\frac{2 \\cos{\\left (2 \\pi t \\right )}}{\\pi} - \\frac{2 \\cos{\\left (6 \\pi t \\right )}}{3 \\pi} + \\frac{2 \\cos{\\left (10 \\pi t \\right )}}{5 \\pi} - \\frac{2 \\cos{\\left (14 \\pi t \\right )}}{7 \\pi} + \\frac{1}{2}$$"
      ],
      "text/plain": [
       "2⋅cos(2⋅π⋅t)   2⋅cos(6⋅π⋅t)   2⋅cos(10⋅π⋅t)   2⋅cos(14⋅π⋅t)   1\n",
       "──────────── - ──────────── + ───────────── - ───────────── + ─\n",
       "     π             3⋅π             5⋅π             7⋅π        2"
      ]
     },
     "metadata": {},
     "output_type": "display_data"
    }
   ],
   "source": [
    "display(vs_step_n7)"
   ]
  },
  {
   "cell_type": "markdown",
   "metadata": {},
   "source": [
    "The following plot shows that with increasing order the series converges to the function, except at the discontinuity, where a constant error remains (Gibb's phenomenon):"
   ]
  },
  {
   "cell_type": "code",
   "execution_count": 36,
   "metadata": {},
   "outputs": [
    {
     "data": {
      "image/png": "[encoded data removed]",
      "text/plain": [
       "<Figure size 432x288 with 1 Axes>"
      ]
     },
     "metadata": {
      "needs_background": "light"
     },
     "output_type": "display_data"
    }
   ],
   "source": [
    "period =1\n",
    "p5 = plot(v_step_plot, vs_step_n7, vs_step_n15, vs_step_n31, \\\n",
    "                     (t,-1/2*period,1/2*period), show=False)\n",
    "p5[0].line_color = 'black'\n",
    "p5[1].line_color = 'green'\n",
    "p5[2].line_color = 'blue'\n",
    "p5[3].line_color = 'red'\n",
    "p5.ylabel = r\"$v(t)$\"\n",
    "p5.show()"
   ]
  },
  {
   "cell_type": "markdown",
   "metadata": {},
   "source": [
    "A larger interval shows the periodicity of the series (small asymmetries in the plot are artefacts of the plotting routine!):"
   ]
  },
  {
   "cell_type": "code",
   "execution_count": 37,
   "metadata": {},
   "outputs": [
    {
     "data": {
      "image/png": "[encoded data removed]",
      "text/plain": [
       "<Figure size 432x288 with 1 Axes>"
      ]
     },
     "metadata": {
      "needs_background": "light"
     },
     "output_type": "display_data"
    }
   ],
   "source": [
    "p6 = plot(vs_step_n31, (t,-3/2*period,3/2*period), show=False)\n",
    "p6.ylabel = r\"$v(t)$\"\n",
    "p6.show()"
   ]
  },
  {
   "cell_type": "markdown",
   "metadata": {},
   "source": [
    "## Lanczos σ-approximation"
   ]
  },
  {
   "cell_type": "markdown",
   "metadata": {},
   "source": [
    "The Fourier series can be adjusted by introducing $\\sigma$-factors of the form ${\\rm sinc}x :=\\sin x/x$  . These factors manage to smooth out the Gibbs phenomena at discontinuities. Essentially, the analytic form ${\\rm sinc}x$ of the Fourier transform of a step function is used to factor out the Gibbs phenomena appearing at discontinuities.\n",
    "\n",
    "The Lanczos $\\sigma$-approximation to a Fourier series is\n",
    "\\begin{equation}\n",
    "v(t) =  A_0 +  \\sum_{n=1}^{m-1} {\\rm sinc}(\\pi n/m) \\left( A_n\\cos n\\omega t  +  B_n\\sin n\\omega t \\right),\n",
    "\\end{equation}"
   ]
  },
  {
   "cell_type": "markdown",
   "metadata": {},
   "source": [
    "We compute the $\\sigma$-approximation for the step function in the previous example, using 15 terms:"
   ]
  },
  {
   "cell_type": "code",
   "execution_count": 38,
   "metadata": {},
   "outputs": [
    {
     "data": {
      "image/png": "[encoded data removed]",
      "text/latex": [
       "$$\\frac{32 \\sin{\\left (\\frac{\\pi}{16} \\right )} \\cos{\\left (2 \\pi t \\right )}}{\\pi^{2}} - \\frac{32 \\sin{\\left (\\frac{3 \\pi}{16} \\right )} \\cos{\\left (6 \\pi t \\right )}}{9 \\pi^{2}} + \\frac{32 \\sin{\\left (\\frac{5 \\pi}{16} \\right )} \\cos{\\left (10 \\pi t \\right )}}{25 \\pi^{2}} - \\frac{32 \\sin{\\left (\\frac{7 \\pi}{16} \\right )} \\cos{\\left (14 \\pi t \\right )}}{49 \\pi^{2}} + \\frac{32 \\sin{\\left (\\frac{7 \\pi}{16} \\right )} \\cos{\\left (18 \\pi t \\right )}}{81 \\pi^{2}} - \\frac{32 \\sin{\\left (\\frac{5 \\pi}{16} \\right )} \\cos{\\left (22 \\pi t \\right )}}{121 \\pi^{2}} + \\frac{32 \\sin{\\left (\\frac{3 \\pi}{16} \\right )} \\cos{\\left (26 \\pi t \\right )}}{169 \\pi^{2}} - \\frac{32 \\sin{\\left (\\frac{\\pi}{16} \\right )} \\cos{\\left (30 \\pi t \\right )}}{225 \\pi^{2}} + \\frac{1}{2}$$"
      ],
      "text/plain": [
       "      ⎛π ⎞                    ⎛3⋅π⎞                    ⎛5⋅π⎞                  \n",
       "32⋅sin⎜──⎟⋅cos(2⋅π⋅t)   32⋅sin⎜───⎟⋅cos(6⋅π⋅t)   32⋅sin⎜───⎟⋅cos(10⋅π⋅t)   32⋅\n",
       "      ⎝16⎠                    ⎝ 16⎠                    ⎝ 16⎠                  \n",
       "───────────────────── - ────────────────────── + ─────────────────────── - ───\n",
       "           2                        2                         2               \n",
       "          π                      9⋅π                      25⋅π                \n",
       "\n",
       "   ⎛7⋅π⎞                     ⎛7⋅π⎞                     ⎛5⋅π⎞                  \n",
       "sin⎜───⎟⋅cos(14⋅π⋅t)   32⋅sin⎜───⎟⋅cos(18⋅π⋅t)   32⋅sin⎜───⎟⋅cos(22⋅π⋅t)   32⋅\n",
       "   ⎝ 16⎠                     ⎝ 16⎠                     ⎝ 16⎠                  \n",
       "──────────────────── + ─────────────────────── - ─────────────────────── + ───\n",
       "          2                         2                          2              \n",
       "      49⋅π                      81⋅π                      121⋅π               \n",
       "\n",
       "   ⎛3⋅π⎞                     ⎛π ⎞                \n",
       "sin⎜───⎟⋅cos(26⋅π⋅t)   32⋅sin⎜──⎟⋅cos(30⋅π⋅t)    \n",
       "   ⎝ 16⎠                     ⎝16⎠               1\n",
       "──────────────────── - ────────────────────── + ─\n",
       "           2                        2           2\n",
       "      169⋅π                    225⋅π             "
      ]
     },
     "metadata": {},
     "output_type": "display_data"
    }
   ],
   "source": [
    "vs_step_Ls_n15 = A0 + Sum( (sin(pi*n/16)/(pi*n/16))*An*cos(n*w*t).subs(w, 2*pi/period), (n, 1, 15)).doit() \\\n",
    "                + Sum( (sin(pi*n/16)/(pi*n/16))*Bn*sin(n*w*t).subs(w, 2*pi/period), (n, 1, 15)).doit()\n",
    "display(vs_step_Ls_n15)"
   ]
  },
  {
   "cell_type": "markdown",
   "metadata": {},
   "source": [
    "The following plot shows that the $\\sigma$-approximation (blue line) indeed manages to smooth out significantly the Gibb's phenomena at the discontinuities, that are present in the original Fourier series green line). The price to pay is a broader profile at the discontinuity."
   ]
  },
  {
   "cell_type": "code",
   "execution_count": 39,
   "metadata": {},
   "outputs": [
    {
     "data": {
      "image/png": "[encoded data removed]",
      "text/plain": [
       "<Figure size 432x288 with 1 Axes>"
      ]
     },
     "metadata": {
      "needs_background": "light"
     },
     "output_type": "display_data"
    }
   ],
   "source": [
    "period =1\n",
    "p7 = plot(v_step_plot, vs_step_n15, vs_step_Ls_n15, \\\n",
    "                     (t,-1/2*period,1/2*period), show=False)\n",
    "p7[0].line_color = 'black'\n",
    "p7[1].line_color = 'green'\n",
    "p7[2].line_color = 'blue'\n",
    "p7.ylabel = r\"$v(t)$\"\n",
    "p7.show()"
   ]
  },
  {
   "cell_type": "markdown",
   "metadata": {},
   "source": [
    "## Mean Power"
   ]
  },
  {
   "cell_type": "markdown",
   "metadata": {},
   "source": [
    "If a periodic voltage $v(t)$ is applied to a resistor $R$, then the average power that is dissipated in R is\n",
    "\\begin{equation}\n",
    "P_R = \\frac{1}{RT} \\int_{-T/2}^{T/2} v^2(t) \\ dt.\n",
    "\\end{equation}\n",
    "If the power is in ${\\rm Volt^2}$, it is customary to refer to the power dissipated in a $R=1 \\Omega$ resistor, that is\n",
    "\\begin{equation}\n",
    "P = \\frac{1}{T} \\int_{-T/2}^{T/2} v^2(t) \\ dt,\n",
    "\\end{equation}\n",
    "which can be viewed as the mean square value of the signal. Hence\n",
    "\\begin{equation}\n",
    "P = \\frac{1}{T} \\int_{-T/2}^{T/2} \\left [ A_0 +  \\sum_{n=1}^{\\infty} A_n\\cos n\\omega t  + \\sum_{n=1}^{\\infty} B_n\\sin n\\omega t \\right ]^2\\ dt,\n",
    "\\end{equation}\n",
    "and because all integrals involving cross-product terms vanish, one obtains\n",
    "\\begin{equation}\n",
    "P = A_0^2 +\\frac{1}{2} \\sum_{n=1}^{\\infty} C_n^2.\n",
    "\\end{equation}\n",
    "Therefore, the mean power of a periodic signal is equal to the sum of the powers of the separate Fourier components (but this is not in general true, if we add together arbitrary signals)."
   ]
  },
  {
   "cell_type": "markdown",
   "metadata": {},
   "source": [
    "In the example of the periodic signal $v(t)=\\omega t/\\pi = (2/T)t$ that we considered above, one needs to reach $n>300$ in order to compute the power with an accuracy of better than 3 decimal places."
   ]
  },
  {
   "cell_type": "code",
   "execution_count": 40,
   "metadata": {},
   "outputs": [
    {
     "data": {
      "image/png": "[encoded data removed]",
      "text/latex": [
       "$$0.801637555386061$$"
      ],
      "text/plain": [
       "0.801637555386061"
      ]
     },
     "metadata": {},
     "output_type": "display_data"
    },
    {
     "data": {
      "image/png": "[encoded data removed]",
      "text/latex": [
       "$$0.874044356224283$$"
      ],
      "text/plain": [
       "0.874044356224283"
      ]
     },
     "metadata": {},
     "output_type": "display_data"
    },
    {
     "data": {
      "image/png": "[encoded data removed]",
      "text/latex": [
       "$$0.914694482068983$$"
      ],
      "text/plain": [
       "0.914694482068983"
      ]
     },
     "metadata": {},
     "output_type": "display_data"
    },
    {
     "data": {
      "image/png": "[encoded data removed]",
      "text/latex": [
       "$$0.915340040242125$$"
      ],
      "text/plain": [
       "0.915340040242125"
      ]
     },
     "metadata": {},
     "output_type": "display_data"
    },
    {
     "data": {
      "image/png": "[encoded data removed]",
      "text/latex": [
       "$$0.915667198037391$$"
      ],
      "text/plain": [
       "0.915667198037391"
      ]
     },
     "metadata": {},
     "output_type": "display_data"
    }
   ],
   "source": [
    "display( N( A0**2 + Sum(Cn**2, (n, 1, 3) ).doit()) )\n",
    "display( N( A0**2 + Sum(Cn**2, (n, 1, 9) ).doit()) )\n",
    "display( N( A0**2 + Sum(Cn**2, (n, 1, 205) ).doit()) )\n",
    "display( N( A0**2 + Sum(Cn**2, (n, 1, 305) ).doit()) )\n",
    "display( N( A0**2 + Sum(Cn**2, (n, 1, 405) ).doit()) )"
   ]
  },
  {
   "cell_type": "markdown",
   "metadata": {},
   "source": [
    "# Complex Fourier Coefficients"
   ]
  },
  {
   "cell_type": "markdown",
   "metadata": {},
   "source": [
    "One can use Euler's formula to write $\\nu$:\n",
    "$$ \\cos(n\\omega t) = \\frac{1}{2}\\left( e^{in\\omega t} + e^{-in\\omega t}\\right), $$\n",
    "$$ \\sin(n\\omega t) = -\\frac{i}{2}\\left( e^{in\\omega t} - e^{-in\\omega t}\\right). $$\n",
    "The Fourier series can then be expressed as\n",
    "\\begin{equation}\n",
    "v(t) =  A_0 +  \\sum_{n=1}^{\\infty} \\frac{A_n-iB_n}{2}e^{in\\omega t}  + \\sum_{n=1}^{\\infty} \\frac{A_n+iB_n}{2}e^{-in\\omega t}.\n",
    "\\end{equation}\n",
    "Defining the complex Fourier coefficients\n",
    "$$\\alpha_0=A_0,$$\n",
    "$$\\alpha_n = \\frac{A_n-iB_n}{2},$$\n",
    "$$\\alpha_{-n} = \\frac{A_n+iB_n}{2} = \\alpha_n^*$$\n",
    "the Fourier series can be written in the compact form\n",
    "\\begin{equation}\n",
    "v(t) =  \\sum_{n=-\\infty}^{\\infty} \\alpha_n e^{in\\omega t}.\n",
    "\\end{equation}\n",
    "Notice that each combination of two complex terms gives a real term, e.g.\n",
    "$$\\alpha_n e^{in\\omega t}+\\alpha_{-n} e^{-in\\omega t} = C_n\\cos(\\omega t-\\phi_n).$$"
   ]
  },
  {
   "cell_type": "markdown",
   "metadata": {},
   "source": [
    "Applying the orthogonality relation\n",
    "$$\\int_{-T/2}^{T/2}e^{i(n-n')\\omega t} dt = \\delta(n-n'),$$\n",
    "the complex Fourier coefficients are obtained as\n",
    "$$\\alpha_n = \\frac{1}{T}\\int_{-T/2}^{T/2}v(t)e^{-in\\omega t},$$\n",
    "whereas the magnitude and phase of each term in the real series are:\n",
    "$$C_n=2|\\alpha_n|,$$\n",
    "$$\\phi_n = -\\arg \\alpha_n.$$\n",
    "The mean power is\n",
    "$$P = \\sum_{n=-\\infty}^{\\infty}|\\alpha_n|^2,$$\n",
    "which is one form of Parseval's theorem."
   ]
  }
 ],
 "metadata": {
  "kernelspec": {
   "display_name": "Python 3",
   "language": "python",
   "name": "python3"
  },
  "language_info": {
   "codemirror_mode": {
    "name": "ipython",
    "version": 3
   },
   "file_extension": ".py",
   "mimetype": "text/x-python",
   "name": "python",
   "nbconvert_exporter": "python",
   "pygments_lexer": "ipython3",
   "version": "3.7.5"
  },
  "latex_envs": {
   "LaTeX_envs_menu_present": true,
   "autoclose": false,
   "autocomplete": true,
   "bibliofile": "biblio.bib",
   "cite_by": "apalike",
   "current_citInitial": 1,
   "eqLabelWithNumbers": true,
   "eqNumInitial": 1,
   "hotkeys": {
    "equation": "Ctrl-E",
    "itemize": "Ctrl-I"
   },
   "labels_anchors": false,
   "latex_user_defs": false,
   "report_style_numbering": false,
   "user_envs_cfg": false
  },
  "toc": {
   "base_numbering": 1,
   "nav_menu": {},
   "number_sections": true,
   "sideBar": true,
   "skip_h1_title": false,
   "title_cell": "Table of Contents",
   "title_sidebar": "Contents",
   "toc_cell": false,
   "toc_position": {
    "height": "calc(100% - 180px)",
    "left": "10px",
    "top": "150px",
    "width": "165px"
   },
   "toc_section_display": true,
   "toc_window_display": false
  },
  "varInspector": {
   "cols": {
    "lenName": 16,
    "lenType": 16,
    "lenVar": 40
   },
   "kernels_config": {
    "python": {
     "delete_cmd_postfix": "",
     "delete_cmd_prefix": "del ",
     "library": "var_list.py",
     "varRefreshCmd": "print(var_dic_list())"
    },
    "r": {
     "delete_cmd_postfix": ") ",
     "delete_cmd_prefix": "rm(",
     "library": "var_list.r",
     "varRefreshCmd": "cat(var_dic_list()) "
    }
   },
   "types_to_exclude": [
    "module",
    "function",
    "builtin_function_or_method",
    "instance",
    "_Feature"
   ],
   "window_display": false
  }
 },
 "nbformat": 4,
 "nbformat_minor": 1
}
